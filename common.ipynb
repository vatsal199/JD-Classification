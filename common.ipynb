{
 "cells": [
  {
   "cell_type": "code",
   "execution_count": 5,
   "metadata": {
    "colab": {
     "base_uri": "https://localhost:8080/",
     "height": 34
    },
    "colab_type": "code",
    "id": "GkvNO5_F0Rgc",
    "outputId": "edf794d9-e0cf-4e6c-a301-af48adb2afb0"
   },
   "outputs": [
    {
     "data": {
      "text/plain": [
       "'!pip install tensorflow==2.0\\n!pip install tensorflow_hub\\n!pip install bert-for-tf2\\n!pip install sentencepiece'"
      ]
     },
     "execution_count": 5,
     "metadata": {
      "tags": []
     },
     "output_type": "execute_result"
    }
   ],
   "source": [
    "'''!pip install tensorflow==2.0\n",
    "!pip install tensorflow_hub\n",
    "!pip install bert-for-tf2\n",
    "!pip install sentencepiece'''"
   ]
  },
  {
   "cell_type": "code",
   "execution_count": 6,
   "metadata": {
    "colab": {
     "base_uri": "https://localhost:8080/",
     "height": 51
    },
    "colab_type": "code",
    "id": "51mSXcdI0Z9u",
    "outputId": "ec201e72-8ab4-4d9e-84fa-3da01d949fad"
   },
   "outputs": [
    {
     "name": "stdout",
     "output_type": "stream",
     "text": [
      "TF version:  2.0.0\n",
      "Hub version:  0.8.0\n"
     ]
    }
   ],
   "source": [
    "import tensorflow as tf\n",
    "import tensorflow_hub as hub\n",
    "print(\"TF version: \", tf.__version__)\n",
    "print(\"Hub version: \", hub.__version__)"
   ]
  },
  {
   "cell_type": "code",
   "execution_count": 0,
   "metadata": {
    "colab": {},
    "colab_type": "code",
    "id": "ST_iFzUh0cpe"
   },
   "outputs": [],
   "source": [
    "import bert\n",
    "from tensorflow.keras.models import Model       # Keras is the new high level API for TensorFlow\n",
    "import math\n",
    "import numpy as np\n",
    "import pandas as pd\n",
    "import pickle"
   ]
  },
  {
   "cell_type": "code",
   "execution_count": 0,
   "metadata": {
    "colab": {},
    "colab_type": "code",
    "id": "EMtDMk6a0oat"
   },
   "outputs": [],
   "source": [
    "train_file = \"/content/trainNew.csv\"\n",
    "test_file = '/content/test.csv'\n",
    "jdFile = '/content/trainJD.txt'\n",
    "max_seq_length = 512"
   ]
  },
  {
   "cell_type": "code",
   "execution_count": 0,
   "metadata": {
    "colab": {},
    "colab_type": "code",
    "id": "OKekWf7E2fEy"
   },
   "outputs": [],
   "source": [
    "'''import zipfile\n",
    "import os\n",
    "for file_name in os.listdir('/content/'):\n",
    "  if file_name.endswith('.zip'):\n",
    "    with zipfile.ZipFile(file_name,'r') as zip_dir:\n",
    "      zip_dir.extractall(path='/content/')'''"
   ]
  },
  {
   "cell_type": "code",
   "execution_count": 0,
   "metadata": {
    "colab": {},
    "colab_type": "code",
    "id": "cAiC6Oo1IlZs"
   },
   "outputs": [],
   "source": [
    "'''import zipfile\n",
    "import os\n",
    "for file_name in os.listdir('/content/drive/My Drive/temp/'):\n",
    "  if file_name.endswith('.zip'):\n",
    "    with zipfile.ZipFile('/content/drive/My Drive/temp/'+file_name,'r') as zip_dir:\n",
    "      zip_dir.extractall(path='/content/')'''"
   ]
  },
  {
   "cell_type": "code",
   "execution_count": 0,
   "metadata": {
    "colab": {},
    "colab_type": "code",
    "id": "kpx_t7xT0r-W"
   },
   "outputs": [],
   "source": [
    "def getBERTModel():\n",
    "    input_word_ids = tf.keras.layers.Input(shape=(max_seq_length,), dtype=tf.int32,name=\"input_word_ids\")\n",
    "    input_mask = tf.keras.layers.Input(shape=(max_seq_length,), dtype=tf.int32,name=\"input_mask\")\n",
    "    segment_ids = tf.keras.layers.Input(shape=(max_seq_length,), dtype=tf.int32,name=\"segment_ids\")\n",
    "\n",
    "    bert_layer = hub.KerasLayer(\"https://tfhub.dev/tensorflow/bert_en_uncased_L-12_H-768_A-12/1\",trainable=False)\n",
    "    #bert_layer = hub.KerasLayer(\"https://tfhub.dev/tensorflow/bert_en_uncased_L-24_H-1024_A-16/1\",trainable=False)\n",
    "    \n",
    "    pooled_output, sequence_output = bert_layer([input_word_ids, input_mask, segment_ids])\n",
    "\n",
    "    model = Model(inputs=[input_word_ids, input_mask, segment_ids], outputs=[pooled_output, sequence_output])\n",
    "\n",
    "    vocab_file = bert_layer.resolved_object.vocab_file.asset_path.numpy()\n",
    "    do_lower_case = bert_layer.resolved_object.do_lower_case.numpy()\n",
    "    FullTokenizer = bert.bert_tokenization.FullTokenizer\n",
    "    tokenizer = FullTokenizer(vocab_file, do_lower_case)\n",
    "\n",
    "    return {'model':model,'tokenizer':tokenizer}"
   ]
  },
  {
   "cell_type": "code",
   "execution_count": 0,
   "metadata": {
    "colab": {},
    "colab_type": "code",
    "id": "zo2A6hIX0ucg"
   },
   "outputs": [],
   "source": [
    "def get_masks(tokens, max_seq_length):\n",
    "    #print('len(tokens),max_seq_length)\n",
    "    if len(tokens)>max_seq_length:\n",
    "        raise IndexError(\"Token length more than max seq length!\")\n",
    "    return [1]*len(tokens) + [0] * (max_seq_length - len(tokens))\n",
    "\n",
    "\n",
    "def get_segments(tokens, max_seq_length):\n",
    "    if len(tokens)>max_seq_length:\n",
    "        raise IndexError(\"Token length more than max seq length!\")\n",
    "    segments = []\n",
    "    current_segment_id = 0\n",
    "    for token in tokens:\n",
    "        segments.append(current_segment_id)\n",
    "        if token == \"[SEP]\":\n",
    "            current_segment_id = 1\n",
    "    return segments + [0] * (max_seq_length - len(tokens))\n",
    "\n",
    "\n",
    "def get_ids(tokens, tokenizer, max_seq_length):\n",
    "    token_ids = tokenizer.convert_tokens_to_ids(tokens)\n",
    "    input_ids = token_ids + [0] * (max_seq_length-len(token_ids))\n",
    "    return input_ids"
   ]
  },
  {
   "cell_type": "code",
   "execution_count": 0,
   "metadata": {
    "colab": {},
    "colab_type": "code",
    "id": "miR9WNLZ0xef"
   },
   "outputs": [],
   "source": [
    "def getEmbeddings(model,tokenizer,sentence): \n",
    "    stokens = tokenizer.tokenize(sentence)\n",
    "\n",
    "    if len(stokens) > (max_seq_length - 2):\n",
    "      stokens = stokens[:max_seq_length-2]\n",
    "\n",
    "    stokens = [\"[CLS]\"] + stokens + [\"[SEP]\"]\n",
    "\n",
    "    input_ids = get_ids(stokens, tokenizer, max_seq_length)\n",
    "    #print(len(input_ids))\n",
    "    input_masks = get_masks(stokens, max_seq_length)\n",
    "    input_segments = get_segments(stokens, max_seq_length)\n",
    "\n",
    "    '''print(input_masks)\n",
    "    print(input_segments)'''\n",
    "\n",
    "    pool_embs, all_embs = model.predict([[input_ids],[input_masks],[input_segments]])\n",
    "    '''print('see')\n",
    "    print(all_embs.shape)\n",
    "    print(pool_embs.shape)'''\n",
    "    # pool_ebmbs is an embeding of CLS token\n",
    "    # all_embs contains embeding for words of input sentence.\n",
    "    return pool_embs"
   ]
  },
  {
   "cell_type": "code",
   "execution_count": 0,
   "metadata": {
    "colab": {},
    "colab_type": "code",
    "id": "5PE3r74y1LuO"
   },
   "outputs": [],
   "source": [
    "def getTrainingData(model,tokenizer,nSentences):\n",
    "    trainX = np.asarray([])\n",
    "    #trainY = np.asarray([])\n",
    "    n = len(nSentences)\n",
    "    for i in range(n): \n",
    "        if i%500 == 0:\n",
    "          print( 'Processing ',i,' out of ',n)\n",
    "\n",
    "        senLen = len(nSentences[i].split())\n",
    "        embs = getEmbeddings(model,tokenizer,nSentences[i])\n",
    "        '''print(embs.shape)\n",
    "        x = embs'''\n",
    "        if trainX.shape[0] == 0:\n",
    "            trainX = embs\n",
    "            #trainY = y\n",
    "        else:\n",
    "            trainX = np.concatenate((trainX, embs), axis=0)\n",
    "            #trainY = np.concatenate((trainY, y), axis=0)\n",
    "    return trainX"
   ]
  },
  {
   "cell_type": "code",
   "execution_count": 0,
   "metadata": {
    "colab": {},
    "colab_type": "code",
    "id": "ePDYiNRm6Dax"
   },
   "outputs": [],
   "source": [
    "def saveJD(df,fileName):\n",
    "    JDs = list(df.job_description)\n",
    "    print(len(JDs))\n",
    "    with open(fileName, 'w',encoding=\"utf-8\") as f:\n",
    "        for strEle in JDs:\n",
    "            ele = strEle.replace(\"\\r\", \"\")\n",
    "            ele =  ele.replace(\"\\n\", \"\")\n",
    "            ele = ele.strip().lower()\n",
    "            f.write(ele)\n",
    "            f.write('\\n')"
   ]
  },
  {
   "cell_type": "markdown",
   "metadata": {
    "colab_type": "text",
    "id": "mqUsoB3IEzux"
   },
   "source": [
    "# **Embedding Generation**"
   ]
  },
  {
   "cell_type": "code",
   "execution_count": 16,
   "metadata": {
    "colab": {
     "base_uri": "https://localhost:8080/",
     "height": 34
    },
    "colab_type": "code",
    "id": "WZXT3-9E6i-I",
    "outputId": "a99e6007-27e1-473b-d4be-f61653efc27e"
   },
   "outputs": [
    {
     "name": "stdout",
     "output_type": "stream",
     "text": [
      "44325\n"
     ]
    }
   ],
   "source": [
    "df = pd.read_csv(train_file, index_col=False)\n",
    "saveJD(df,jdFile)"
   ]
  },
  {
   "cell_type": "code",
   "execution_count": 0,
   "metadata": {
    "colab": {},
    "colab_type": "code",
    "id": "F2QT00QL00A0"
   },
   "outputs": [],
   "source": [
    "outModel = getBERTModel()\n",
    "model = outModel['model']\n",
    "tokenizer = outModel['tokenizer']"
   ]
  },
  {
   "cell_type": "code",
   "execution_count": 0,
   "metadata": {
    "colab": {},
    "colab_type": "code",
    "id": "2PF2ZANB1DQH"
   },
   "outputs": [],
   "source": [
    "#nSentence = [\"short cuts make long delays\",\"short cuts make long delays\"]"
   ]
  },
  {
   "cell_type": "code",
   "execution_count": 0,
   "metadata": {
    "colab": {},
    "colab_type": "code",
    "id": "LZm05bLxJaRk"
   },
   "outputs": [],
   "source": [
    "f = open(jdFile, 'r')\n",
    "nSentence = f.read().splitlines()\n",
    "f.close()"
   ]
  },
  {
   "cell_type": "code",
   "execution_count": 0,
   "metadata": {
    "colab": {},
    "colab_type": "code",
    "id": "Y93_rgIA1EYQ"
   },
   "outputs": [],
   "source": [
    "trainX = getTrainingData(model,tokenizer,nSentence)"
   ]
  },
  {
   "cell_type": "code",
   "execution_count": 0,
   "metadata": {
    "colab": {
     "base_uri": "https://localhost:8080/",
     "height": 34
    },
    "colab_type": "code",
    "id": "CkMI93CX2q5o",
    "outputId": "0479e295-ea21-442b-a03e-fe2130f929af"
   },
   "outputs": [
    {
     "name": "stdout",
     "output_type": "stream",
     "text": [
      "(47532, 768)\n"
     ]
    }
   ],
   "source": [
    "print(trainX.shape)"
   ]
  },
  {
   "cell_type": "code",
   "execution_count": 0,
   "metadata": {
    "colab": {},
    "colab_type": "code",
    "id": "lcKuL8kzJjRY"
   },
   "outputs": [],
   "source": [
    "np.savetxt('trainX.csv',trainX, delimiter=',',fmt='%8.4f')\n",
    "#trainX = np.loadtxt('trainX.csv',delimiter=',')"
   ]
  },
  {
   "cell_type": "markdown",
   "metadata": {
    "colab_type": "text",
    "id": "SoMaV4DaE5_M"
   },
   "source": [
    "# **Dataset Generation**"
   ]
  },
  {
   "cell_type": "code",
   "execution_count": 0,
   "metadata": {
    "colab": {},
    "colab_type": "code",
    "id": "YtUQ4GM87McA"
   },
   "outputs": [],
   "source": [
    "from sklearn import preprocessing\n",
    "le = preprocessing.LabelEncoder()\n",
    "le.fit(df.category)\n",
    "pickle.dump(le, open('/content/catlabelFit.sav', 'wb'))"
   ]
  },
  {
   "cell_type": "code",
   "execution_count": 19,
   "metadata": {
    "colab": {
     "base_uri": "https://localhost:8080/",
     "height": 51
    },
    "colab_type": "code",
    "id": "Y5DYVXkG7kuQ",
    "outputId": "fb74e1cd-caf8-401a-a5f3-27bd108e064c"
   },
   "outputs": [
    {
     "name": "stdout",
     "output_type": "stream",
     "text": [
      "(44325,)\n",
      "(44325, 769)\n"
     ]
    }
   ],
   "source": [
    "cat = le.transform(df.category)\n",
    "print(cat.shape)\n",
    "saveData = np.concatenate((trainX,np.asarray([cat]).T),axis=1)\n",
    "print(saveData.shape)\n",
    "np.savetxt('/content/catTrain.csv',saveData, delimiter=',',fmt='%8.4f')"
   ]
  },
  {
   "cell_type": "code",
   "execution_count": 0,
   "metadata": {
    "colab": {},
    "colab_type": "code",
    "id": "kKnFrpBz7-eG"
   },
   "outputs": [],
   "source": [
    "le.fit(df.job_type)\n",
    "pickle.dump(le, open('/content/typlabelFit.sav', 'wb'))"
   ]
  },
  {
   "cell_type": "code",
   "execution_count": 21,
   "metadata": {
    "colab": {
     "base_uri": "https://localhost:8080/",
     "height": 51
    },
    "colab_type": "code",
    "id": "aVw4Qjr68HOo",
    "outputId": "f60cd8b0-84cd-4095-d1e2-9fc516617611"
   },
   "outputs": [
    {
     "name": "stdout",
     "output_type": "stream",
     "text": [
      "(44325,)\n",
      "(44325, 769)\n"
     ]
    }
   ],
   "source": [
    "typ = le.fit_transform(df.job_type)\n",
    "print(typ.shape)\n",
    "saveData = np.concatenate((trainX,np.asarray([typ]).T),axis=1)\n",
    "print(saveData.shape)\n",
    "np.savetxt('/content/typTrain.csv',saveData, delimiter=',',fmt='%8.4f')"
   ]
  },
  {
   "cell_type": "markdown",
   "metadata": {
    "colab_type": "text",
    "id": "8R3p4iDT-EW4"
   },
   "source": [
    "# **Training**"
   ]
  },
  {
   "cell_type": "code",
   "execution_count": 0,
   "metadata": {
    "colab": {},
    "colab_type": "code",
    "id": "SY6Jusyw9bqb"
   },
   "outputs": [],
   "source": [
    "loadData = np.loadtxt('/content/catTrain.csv',delimiter=',')\n",
    "labels = loadData[:,-1]\n",
    "dataset = loadData[:,:-1]"
   ]
  },
  {
   "cell_type": "code",
   "execution_count": 23,
   "metadata": {
    "colab": {
     "base_uri": "https://localhost:8080/",
     "height": 51
    },
    "colab_type": "code",
    "id": "ubPzy8gG9pJ5",
    "outputId": "2c04e881-e132-4bd0-a7e0-00c053793a02"
   },
   "outputs": [
    {
     "name": "stdout",
     "output_type": "stream",
     "text": [
      "(44325, 768)\n",
      "(44325,)\n"
     ]
    }
   ],
   "source": [
    "print(dataset.shape)\n",
    "print(labels.shape)"
   ]
  },
  {
   "cell_type": "code",
   "execution_count": 0,
   "metadata": {
    "colab": {},
    "colab_type": "code",
    "id": "yNe9NzLr9tn_"
   },
   "outputs": [],
   "source": [
    "from sklearn.model_selection import train_test_split\n",
    "trainX,testX, trainY, testY = train_test_split(dataset, labels,train_size = 0.8, test_size=0.2, random_state=42,stratify = labels)"
   ]
  },
  {
   "cell_type": "code",
   "execution_count": 0,
   "metadata": {
    "colab": {},
    "colab_type": "code",
    "id": "ehUcVUoaTBao"
   },
   "outputs": [],
   "source": [
    "trainX = dataset\n",
    "trainY = labels"
   ]
  },
  {
   "cell_type": "code",
   "execution_count": 0,
   "metadata": {
    "colab": {},
    "colab_type": "code",
    "id": "COnlLhFfLOt2"
   },
   "outputs": [],
   "source": [
    "svm_c = 0.001\n",
    "svm_gamma = 1\n",
    "svm_kernal = 'linear'\n",
    "\n",
    "estimators = 1000"
   ]
  },
  {
   "cell_type": "code",
   "execution_count": 0,
   "metadata": {
    "colab": {},
    "colab_type": "code",
    "id": "5rQOAojA9wsI"
   },
   "outputs": [],
   "source": [
    "'''from sklearn import svm\n",
    "#model = svm.SVC(C=10,kernel='rbf',gamma=0.01)\n",
    "#model = svm.SVC(C=svm_c,kernel=svm_kernal,gamma=svm_gamma)\n",
    "model = svm.SVC(C=svm_c,kernel=svm_kernal)'''\n",
    "\n",
    "from sklearn.ensemble import RandomForestClassifier\n",
    "model = RandomForestClassifier(n_estimators=estimators)"
   ]
  },
  {
   "cell_type": "code",
   "execution_count": 28,
   "metadata": {
    "colab": {
     "base_uri": "https://localhost:8080/",
     "height": 34
    },
    "colab_type": "code",
    "id": "2-Hib75690TN",
    "outputId": "9e8cf0e3-b3a4-413f-bbf2-b24f8666b82a"
   },
   "outputs": [
    {
     "name": "stdout",
     "output_type": "stream",
     "text": [
      "training started...\n"
     ]
    }
   ],
   "source": [
    "print(\"training started...\")\n",
    "model.fit(trainX,trainY)\n",
    "pickle.dump(model, open('/content/catModel.sav', 'wb'))"
   ]
  },
  {
   "cell_type": "code",
   "execution_count": 31,
   "metadata": {
    "colab": {
     "base_uri": "https://localhost:8080/",
     "height": 34
    },
    "colab_type": "code",
    "id": "vrKxZSba-jlI",
    "outputId": "70e1431c-5d2d-4f52-eb14-29aa62401966"
   },
   "outputs": [
    {
     "name": "stdout",
     "output_type": "stream",
     "text": [
      "0.8544839255499154\n"
     ]
    }
   ],
   "source": [
    "acc = model.score(testX,testY)\n",
    "print(acc)"
   ]
  },
  {
   "cell_type": "code",
   "execution_count": 0,
   "metadata": {
    "colab": {},
    "colab_type": "code",
    "id": "8cbbJoKO-tMg"
   },
   "outputs": [],
   "source": [
    "loadData = np.loadtxt('/content/typTrain.csv',delimiter=',')\n",
    "labels = loadData[:,-1]\n",
    "dataset = loadData[:,:-1]"
   ]
  },
  {
   "cell_type": "code",
   "execution_count": 0,
   "metadata": {
    "colab": {
     "base_uri": "https://localhost:8080/",
     "height": 51
    },
    "colab_type": "code",
    "id": "V8tAPv0m-wG5",
    "outputId": "08a43169-eb07-4efb-cbf3-2d13aa4eef3f"
   },
   "outputs": [
    {
     "name": "stdout",
     "output_type": "stream",
     "text": [
      "(47532, 768)\n",
      "(47532,)\n"
     ]
    }
   ],
   "source": [
    "print(dataset.shape)\n",
    "print(labels.shape)"
   ]
  },
  {
   "cell_type": "code",
   "execution_count": 0,
   "metadata": {
    "colab": {},
    "colab_type": "code",
    "id": "XMilBqJS-x6-"
   },
   "outputs": [],
   "source": [
    "trainX,testX, trainY, testY = train_test_split(dataset, labels,train_size = 0.8, test_size=0.2, random_state=42,stratify = labels)"
   ]
  },
  {
   "cell_type": "code",
   "execution_count": 0,
   "metadata": {
    "colab": {},
    "colab_type": "code",
    "id": "MZKH6hmXLRLY"
   },
   "outputs": [],
   "source": [
    "svm_c = 0.01\n",
    "svm_gamma = 10\n",
    "svm_kernal = 'linear'\n",
    "\n",
    "estimators = 1000"
   ]
  },
  {
   "cell_type": "code",
   "execution_count": 0,
   "metadata": {
    "colab": {},
    "colab_type": "code",
    "id": "jStA9QeE-1K5"
   },
   "outputs": [],
   "source": [
    "#model = svm.SVC(C=10,kernel='rbf',gamma=0.01)\n",
    "#model = svm.SVC(C=svm_c,kernel=svm_kernal,gamma=svm_gamma,class_weight='balanced')\n",
    "#model = svm.SVC(C=svm_c,kernel=svm_kernal,class_weight='balanced')\n",
    "\n",
    "from sklearn.ensemble import RandomForestClassifier\n",
    "model = RandomForestClassifier(n_estimators=estimators)"
   ]
  },
  {
   "cell_type": "code",
   "execution_count": 0,
   "metadata": {
    "colab": {
     "base_uri": "https://localhost:8080/",
     "height": 34
    },
    "colab_type": "code",
    "id": "taFULuHH-3Ry",
    "outputId": "720e881e-7ec5-4cac-c5bf-42e6a773fcaa"
   },
   "outputs": [
    {
     "name": "stdout",
     "output_type": "stream",
     "text": [
      "training started...\n"
     ]
    }
   ],
   "source": [
    "print(\"training started...\")\n",
    "model.fit(trainX,trainY)\n",
    "pickle.dump(model, open('/content/typModel.sav', 'wb'))"
   ]
  },
  {
   "cell_type": "code",
   "execution_count": 0,
   "metadata": {
    "colab": {},
    "colab_type": "code",
    "id": "2VtJw8GaSyGa"
   },
   "outputs": [],
   "source": [
    "model = pickle.load(open('/content/typModel.sav', 'rb'))"
   ]
  },
  {
   "cell_type": "code",
   "execution_count": 0,
   "metadata": {
    "colab": {
     "base_uri": "https://localhost:8080/",
     "height": 34
    },
    "colab_type": "code",
    "id": "HGDEZY7J-7b-",
    "outputId": "451be81b-dfa1-44a1-d1d1-b443033aa0a8"
   },
   "outputs": [
    {
     "name": "stdout",
     "output_type": "stream",
     "text": [
      "0.9951614599768591\n"
     ]
    }
   ],
   "source": [
    "acc = model.score(testX,testY)\n",
    "print(acc)"
   ]
  },
  {
   "cell_type": "markdown",
   "metadata": {
    "colab_type": "text",
    "id": "bRvB_UiP_Mvg"
   },
   "source": [
    "# **Submission** **Predictor**"
   ]
  },
  {
   "cell_type": "code",
   "execution_count": 35,
   "metadata": {
    "colab": {
     "base_uri": "https://localhost:8080/",
     "height": 34
    },
    "colab_type": "code",
    "id": "BXqD30iM_fNk",
    "outputId": "6f25fa89-51ee-4d17-cc8f-245597c1acc2"
   },
   "outputs": [
    {
     "name": "stdout",
     "output_type": "stream",
     "text": [
      "11771\n"
     ]
    }
   ],
   "source": [
    "df = pd.read_csv(test_file, index_col=False)\n",
    "#df.job_no\n",
    "testJd = '/content/testJd.txt'\n",
    "saveJD(df,testJd)"
   ]
  },
  {
   "cell_type": "code",
   "execution_count": 0,
   "metadata": {
    "colab": {},
    "colab_type": "code",
    "id": "MyHPYcRzAZth"
   },
   "outputs": [],
   "source": [
    "f = open(testJd, 'r')\n",
    "nSentence = f.read().splitlines()\n",
    "f.close()"
   ]
  },
  {
   "cell_type": "code",
   "execution_count": 0,
   "metadata": {
    "colab": {},
    "colab_type": "code",
    "id": "PuBkNgzyAkKe"
   },
   "outputs": [],
   "source": [
    "testX = getTrainingData(model,tokenizer,nSentence)"
   ]
  },
  {
   "cell_type": "code",
   "execution_count": 0,
   "metadata": {
    "colab": {
     "base_uri": "https://localhost:8080/",
     "height": 34
    },
    "colab_type": "code",
    "id": "MYwCteyMAsdP",
    "outputId": "6b6aa5cd-d15c-4642-f1b1-95fa3a785a9f"
   },
   "outputs": [
    {
     "name": "stdout",
     "output_type": "stream",
     "text": [
      "(11771, 768)\n"
     ]
    }
   ],
   "source": [
    "print(testX.shape)"
   ]
  },
  {
   "cell_type": "code",
   "execution_count": 0,
   "metadata": {
    "colab": {},
    "colab_type": "code",
    "id": "7LONbM85As0-"
   },
   "outputs": [],
   "source": [
    "np.savetxt('testX.csv',testX, delimiter=',',fmt='%8.4f')\n",
    "\n",
    "#testX = np.loadtxt('testX.csv',delimiter=',')"
   ]
  },
  {
   "cell_type": "code",
   "execution_count": 0,
   "metadata": {
    "colab": {},
    "colab_type": "code",
    "id": "uEI0giCWBOsw"
   },
   "outputs": [],
   "source": [
    "model = pickle.load(open('/content/catModel.sav', 'rb'))\n",
    "le = pickle.load(open('/content/catlabelFit.sav', 'rb'))  # le = preprocessing.LabelEncoder()"
   ]
  },
  {
   "cell_type": "code",
   "execution_count": 0,
   "metadata": {
    "colab": {},
    "colab_type": "code",
    "id": "QDGsPOT6BtIX"
   },
   "outputs": [],
   "source": [
    "catPredTemp = model.predict(testX).astype(int)\n",
    "catPred = le.inverse_transform(catPredTemp)"
   ]
  },
  {
   "cell_type": "code",
   "execution_count": 0,
   "metadata": {
    "colab": {},
    "colab_type": "code",
    "id": "3yQoM_NnCKln"
   },
   "outputs": [],
   "source": [
    "model = pickle.load(open('/content/typModel.sav', 'rb'))\n",
    "le = pickle.load(open('/content/typlabelFit.sav', 'rb'))"
   ]
  },
  {
   "cell_type": "code",
   "execution_count": 0,
   "metadata": {
    "colab": {},
    "colab_type": "code",
    "id": "1qgsxub9CLvH"
   },
   "outputs": [],
   "source": [
    "typPredTemp = model.predict(testX).astype(int)\n",
    "typPred = le.inverse_transform(typPredTemp)"
   ]
  },
  {
   "cell_type": "code",
   "execution_count": 0,
   "metadata": {
    "colab": {
     "base_uri": "https://localhost:8080/",
     "height": 34
    },
    "colab_type": "code",
    "id": "j8SHNbUUDdnz",
    "outputId": "04c3bb53-4b75-449b-b1de-d750c11e195a"
   },
   "outputs": [
    {
     "data": {
      "text/plain": [
       "\"dict = {'job_no':df.job_no, \\n        'category': catPred, \\n        'job_type': typPred}\""
      ]
     },
     "execution_count": 88,
     "metadata": {
      "tags": []
     },
     "output_type": "execute_result"
    }
   ],
   "source": [
    "'''dict = {'job_no':df.job_no, \n",
    "        'category': catPred, \n",
    "        'job_type': typPred}'''"
   ]
  },
  {
   "cell_type": "code",
   "execution_count": 0,
   "metadata": {
    "colab": {},
    "colab_type": "code",
    "id": "92aujPUJLBUU"
   },
   "outputs": [],
   "source": [
    "dict = {'job_no':df.job_no,  \n",
    "        'job_type': typPred,\n",
    "        'category': catPred}"
   ]
  },
  {
   "cell_type": "code",
   "execution_count": 0,
   "metadata": {
    "colab": {},
    "colab_type": "code",
    "id": "qIur5sNPD66E"
   },
   "outputs": [],
   "source": [
    "dfSub = pd.DataFrame(dict)\n",
    "dfSub.to_csv('/content/submission.csv',index=False) "
   ]
  },
  {
   "cell_type": "code",
   "execution_count": 43,
   "metadata": {
    "colab": {
     "base_uri": "https://localhost:8080/",
     "height": 204
    },
    "colab_type": "code",
    "id": "ygp70wxrh-Ue",
    "outputId": "81b70916-6bc9-4f87-ab15-5a43a8373c25"
   },
   "outputs": [
    {
     "data": {
      "text/html": [
       "<div>\n",
       "<style scoped>\n",
       "    .dataframe tbody tr th:only-of-type {\n",
       "        vertical-align: middle;\n",
       "    }\n",
       "\n",
       "    .dataframe tbody tr th {\n",
       "        vertical-align: top;\n",
       "    }\n",
       "\n",
       "    .dataframe thead th {\n",
       "        text-align: right;\n",
       "    }\n",
       "</style>\n",
       "<table border=\"1\" class=\"dataframe\">\n",
       "  <thead>\n",
       "    <tr style=\"text-align: right;\">\n",
       "      <th></th>\n",
       "      <th>job_no</th>\n",
       "      <th>job_type</th>\n",
       "      <th>category</th>\n",
       "    </tr>\n",
       "  </thead>\n",
       "  <tbody>\n",
       "    <tr>\n",
       "      <th>0</th>\n",
       "      <td>Id-1</td>\n",
       "      <td>Permanent</td>\n",
       "      <td>Data Management and Statistics</td>\n",
       "    </tr>\n",
       "    <tr>\n",
       "      <th>1</th>\n",
       "      <td>Id-2</td>\n",
       "      <td>Permanent</td>\n",
       "      <td>Pharmaceutical, Healthcare and Medical Sales</td>\n",
       "    </tr>\n",
       "    <tr>\n",
       "      <th>2</th>\n",
       "      <td>Id-4</td>\n",
       "      <td>Permanent</td>\n",
       "      <td>Data Management and Statistics</td>\n",
       "    </tr>\n",
       "    <tr>\n",
       "      <th>3</th>\n",
       "      <td>Id-6</td>\n",
       "      <td>Permanent</td>\n",
       "      <td>Pharmaceutical Marketing</td>\n",
       "    </tr>\n",
       "    <tr>\n",
       "      <th>4</th>\n",
       "      <td>Id-7</td>\n",
       "      <td>Permanent</td>\n",
       "      <td>Data Management and Statistics</td>\n",
       "    </tr>\n",
       "  </tbody>\n",
       "</table>\n",
       "</div>"
      ],
      "text/plain": [
       "  job_no   job_type                                      category\n",
       "0   Id-1  Permanent                Data Management and Statistics\n",
       "1   Id-2  Permanent  Pharmaceutical, Healthcare and Medical Sales\n",
       "2   Id-4  Permanent                Data Management and Statistics\n",
       "3   Id-6  Permanent                      Pharmaceutical Marketing\n",
       "4   Id-7  Permanent                Data Management and Statistics"
      ]
     },
     "execution_count": 43,
     "metadata": {
      "tags": []
     },
     "output_type": "execute_result"
    }
   ],
   "source": [
    "dfSub.head()"
   ]
  }
 ],
 "metadata": {
  "accelerator": "GPU",
  "colab": {
   "collapsed_sections": [],
   "name": "common.ipynb",
   "provenance": [],
   "toc_visible": true
  },
  "kernelspec": {
   "display_name": "Python 3",
   "language": "python",
   "name": "python3"
  },
  "language_info": {
   "codemirror_mode": {
    "name": "ipython",
    "version": 3
   },
   "file_extension": ".py",
   "mimetype": "text/x-python",
   "name": "python",
   "nbconvert_exporter": "python",
   "pygments_lexer": "ipython3",
   "version": "3.7.3"
  }
 },
 "nbformat": 4,
 "nbformat_minor": 1
}
