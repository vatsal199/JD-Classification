{
 "cells": [
  {
   "cell_type": "code",
   "execution_count": 51,
   "metadata": {},
   "outputs": [],
   "source": [
    "import pandas as pd\n",
    "import numpy as np"
   ]
  },
  {
   "cell_type": "code",
   "execution_count": 52,
   "metadata": {},
   "outputs": [],
   "source": [
    "train_file = \"train.csv\"\n",
    "jdFile = \"trainJD.txt\"\n",
    "train_rows = 25"
   ]
  },
  {
   "cell_type": "code",
   "execution_count": 53,
   "metadata": {},
   "outputs": [
    {
     "data": {
      "text/html": [
       "<div>\n",
       "<style scoped>\n",
       "    .dataframe tbody tr th:only-of-type {\n",
       "        vertical-align: middle;\n",
       "    }\n",
       "\n",
       "    .dataframe tbody tr th {\n",
       "        vertical-align: top;\n",
       "    }\n",
       "\n",
       "    .dataframe thead th {\n",
       "        text-align: right;\n",
       "    }\n",
       "</style>\n",
       "<table border=\"1\" class=\"dataframe\">\n",
       "  <thead>\n",
       "    <tr style=\"text-align: right;\">\n",
       "      <th></th>\n",
       "      <th>job_no</th>\n",
       "      <th>job_description</th>\n",
       "      <th>job_type</th>\n",
       "      <th>category</th>\n",
       "    </tr>\n",
       "  </thead>\n",
       "  <tbody>\n",
       "    <tr>\n",
       "      <td>0</td>\n",
       "      <td>Id-12765</td>\n",
       "      <td>Zest Scientific is searching for an accomplis...</td>\n",
       "      <td>Permanent</td>\n",
       "      <td>Pharmaceutical, Healthcare and Medical Sales</td>\n",
       "    </tr>\n",
       "    <tr>\n",
       "      <td>1</td>\n",
       "      <td>Id-22925</td>\n",
       "      <td>En el mundo de los CRO's típicos, esta compañí...</td>\n",
       "      <td>Permanent</td>\n",
       "      <td>Clinical Research</td>\n",
       "    </tr>\n",
       "    <tr>\n",
       "      <td>2</td>\n",
       "      <td>Id-1321</td>\n",
       "      <td>Asha Mistry of Umbilical Life is recruiting an...</td>\n",
       "      <td>Contract/Interim</td>\n",
       "      <td>Pharmaceutical Marketing</td>\n",
       "    </tr>\n",
       "    <tr>\n",
       "      <td>3</td>\n",
       "      <td>Id-9473</td>\n",
       "      <td>Sales Representative - Laser in der Medizinte...</td>\n",
       "      <td>Permanent</td>\n",
       "      <td>Pharmaceutical, Healthcare and Medical Sales</td>\n",
       "    </tr>\n",
       "    <tr>\n",
       "      <td>4</td>\n",
       "      <td>Id-14952</td>\n",
       "      <td>Field Service Engineer - Life Science\\r\\r\\r\\nC...</td>\n",
       "      <td>Permanent</td>\n",
       "      <td>Manufacturing &amp; Operations</td>\n",
       "    </tr>\n",
       "  </tbody>\n",
       "</table>\n",
       "</div>"
      ],
      "text/plain": [
       "     job_no                                    job_description  \\\n",
       "0  Id-12765   Zest Scientific is searching for an accomplis...   \n",
       "1  Id-22925  En el mundo de los CRO's típicos, esta compañí...   \n",
       "2   Id-1321  Asha Mistry of Umbilical Life is recruiting an...   \n",
       "3   Id-9473   Sales Representative - Laser in der Medizinte...   \n",
       "4  Id-14952  Field Service Engineer - Life Science\\r\\r\\r\\nC...   \n",
       "\n",
       "           job_type                                      category  \n",
       "0         Permanent  Pharmaceutical, Healthcare and Medical Sales  \n",
       "1         Permanent                             Clinical Research  \n",
       "2  Contract/Interim                      Pharmaceutical Marketing  \n",
       "3         Permanent  Pharmaceutical, Healthcare and Medical Sales  \n",
       "4         Permanent                    Manufacturing & Operations  "
      ]
     },
     "execution_count": 53,
     "metadata": {},
     "output_type": "execute_result"
    }
   ],
   "source": [
    "#df = pd.read_csv(train_file, index_col=False)\n",
    "df = pd.read_csv(train_file, index_col=False,nrows=train_rows)\n",
    "df.head()"
   ]
  },
  {
   "cell_type": "code",
   "execution_count": 54,
   "metadata": {},
   "outputs": [
    {
     "data": {
      "text/plain": [
       "count                                               25\n",
       "unique                                               9\n",
       "top       Pharmaceutical, Healthcare and Medical Sales\n",
       "freq                                                 6\n",
       "Name: category, dtype: object"
      ]
     },
     "execution_count": 54,
     "metadata": {},
     "output_type": "execute_result"
    }
   ],
   "source": [
    "df['category'].describe()"
   ]
  },
  {
   "cell_type": "code",
   "execution_count": 55,
   "metadata": {},
   "outputs": [
    {
     "data": {
      "text/plain": [
       "array(['Pharmaceutical, Healthcare and Medical Sales',\n",
       "       'Clinical Research', 'Pharmaceutical Marketing',\n",
       "       'Manufacturing & Operations', 'Science',\n",
       "       'Medical Affairs / Pharmaceutical Physician', 'Regulatory Affairs',\n",
       "       'Medical Information and Pharmacovigilance',\n",
       "       'Data Management and Statistics'], dtype=object)"
      ]
     },
     "execution_count": 55,
     "metadata": {},
     "output_type": "execute_result"
    }
   ],
   "source": [
    "df.category.unique()"
   ]
  },
  {
   "cell_type": "code",
   "execution_count": 56,
   "metadata": {},
   "outputs": [
    {
     "data": {
      "text/plain": [
       "Pharmaceutical, Healthcare and Medical Sales    6\n",
       "Clinical Research                               5\n",
       "Science                                         5\n",
       "Regulatory Affairs                              3\n",
       "Manufacturing & Operations                      2\n",
       "Medical Affairs / Pharmaceutical Physician      1\n",
       "Data Management and Statistics                  1\n",
       "Pharmaceutical Marketing                        1\n",
       "Medical Information and Pharmacovigilance       1\n",
       "Name: category, dtype: int64"
      ]
     },
     "execution_count": 56,
     "metadata": {},
     "output_type": "execute_result"
    }
   ],
   "source": [
    "df.category.value_counts(ascending=False)"
   ]
  },
  {
   "cell_type": "code",
   "execution_count": 27,
   "metadata": {},
   "outputs": [
    {
     "data": {
      "text/plain": [
       "count            18\n",
       "unique            3\n",
       "top       Permanent\n",
       "freq             16\n",
       "Name: job_type, dtype: object"
      ]
     },
     "execution_count": 27,
     "metadata": {},
     "output_type": "execute_result"
    }
   ],
   "source": [
    "df['job_type'].describe()"
   ]
  },
  {
   "cell_type": "code",
   "execution_count": 22,
   "metadata": {},
   "outputs": [
    {
     "data": {
      "text/plain": [
       "array(['Permanent', 'Contract/Interim', 'Contract/Temp', 'Any',\n",
       "       'Part-Time', 'Temporary/Seasonal'], dtype=object)"
      ]
     },
     "execution_count": 22,
     "metadata": {},
     "output_type": "execute_result"
    }
   ],
   "source": [
    "df.job_type.unique()"
   ]
  },
  {
   "cell_type": "code",
   "execution_count": 23,
   "metadata": {},
   "outputs": [
    {
     "data": {
      "text/plain": [
       "Permanent             15777\n",
       "Contract/Interim       1414\n",
       "Contract/Temp           305\n",
       "Temporary/Seasonal      113\n",
       "Any                      25\n",
       "Part-Time                23\n",
       "Name: job_type, dtype: int64"
      ]
     },
     "execution_count": 23,
     "metadata": {},
     "output_type": "execute_result"
    }
   ],
   "source": [
    "df.job_type.value_counts(ascending=False)"
   ]
  },
  {
   "cell_type": "code",
   "execution_count": 35,
   "metadata": {},
   "outputs": [],
   "source": [
    "from sklearn import preprocessing\n",
    "le = preprocessing.LabelEncoder()\n",
    "cat = le.fit_transform(df.category)"
   ]
  },
  {
   "cell_type": "code",
   "execution_count": 36,
   "metadata": {},
   "outputs": [
    {
     "name": "stdout",
     "output_type": "stream",
     "text": [
      "(17657,)\n"
     ]
    }
   ],
   "source": [
    "print(cat.shape)"
   ]
  },
  {
   "cell_type": "code",
   "execution_count": 37,
   "metadata": {},
   "outputs": [],
   "source": [
    "np.savetxt('cat.csv',cat, delimiter=',',fmt='%8.4f')"
   ]
  },
  {
   "cell_type": "code",
   "execution_count": 38,
   "metadata": {},
   "outputs": [],
   "source": [
    "typ = le.fit_transform(df.job_type)"
   ]
  },
  {
   "cell_type": "code",
   "execution_count": 39,
   "metadata": {},
   "outputs": [
    {
     "name": "stdout",
     "output_type": "stream",
     "text": [
      "(17657,)\n"
     ]
    }
   ],
   "source": [
    "print(typ.shape)"
   ]
  },
  {
   "cell_type": "code",
   "execution_count": 40,
   "metadata": {},
   "outputs": [],
   "source": [
    "np.savetxt('typ.csv',typ, delimiter=',',fmt='%8.4f')"
   ]
  },
  {
   "cell_type": "code",
   "execution_count": null,
   "metadata": {},
   "outputs": [],
   "source": []
  }
 ],
 "metadata": {
  "kernelspec": {
   "display_name": "Python 3",
   "language": "python",
   "name": "python3"
  },
  "language_info": {
   "codemirror_mode": {
    "name": "ipython",
    "version": 3
   },
   "file_extension": ".py",
   "mimetype": "text/x-python",
   "name": "python",
   "nbconvert_exporter": "python",
   "pygments_lexer": "ipython3",
   "version": "3.7.3"
  }
 },
 "nbformat": 4,
 "nbformat_minor": 4
}
