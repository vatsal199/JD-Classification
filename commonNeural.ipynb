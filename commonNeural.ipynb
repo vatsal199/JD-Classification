{
 "cells": [
  {
   "cell_type": "code",
   "execution_count": null,
   "metadata": {
    "colab": {
     "base_uri": "https://localhost:8080/",
     "height": 34
    },
    "colab_type": "code",
    "id": "GkvNO5_F0Rgc",
    "outputId": "951e057c-502b-402e-aff6-d4540fb684d1"
   },
   "outputs": [],
   "source": [
    "'''!pip install tensorflow-gpu==2.0\n",
    "!pip install tensorflow_hub\n",
    "!pip install bert-for-tf2\n",
    "!pip install sentencepiece'''"
   ]
  },
  {
   "cell_type": "code",
   "execution_count": null,
   "metadata": {
    "colab": {
     "base_uri": "https://localhost:8080/",
     "height": 51
    },
    "colab_type": "code",
    "id": "51mSXcdI0Z9u",
    "outputId": "34403673-d732-4855-9fbc-3ae5250a476b"
   },
   "outputs": [],
   "source": [
    "import tensorflow as tf\n",
    "import tensorflow_hub as hub\n",
    "print(\"TF version: \", tf.__version__)\n",
    "print(\"Hub version: \", hub.__version__)"
   ]
  },
  {
   "cell_type": "code",
   "execution_count": null,
   "metadata": {
    "colab": {},
    "colab_type": "code",
    "id": "ST_iFzUh0cpe"
   },
   "outputs": [],
   "source": [
    "import bert\n",
    "from tensorflow.keras.models import Model       # Keras is the new high level API for TensorFlow\n",
    "from tensorflow import keras\n",
    "import math\n",
    "import numpy as np\n",
    "import pandas as pd\n",
    "import pickle"
   ]
  },
  {
   "cell_type": "code",
   "execution_count": null,
   "metadata": {
    "colab": {},
    "colab_type": "code",
    "id": "EMtDMk6a0oat"
   },
   "outputs": [],
   "source": [
    "train_file = \"/content/trainNew.csv\"\n",
    "test_file = '/content/test.csv'\n",
    "jdFile = '/content/trainJD.txt'\n",
    "checkpoint_path = '/content/ckpt/'\n",
    "max_seq_length = 512\n",
    "bertOutDim = 768\n",
    "outDim = 11\n",
    "#epochs = 1000"
   ]
  },
  {
   "cell_type": "code",
   "execution_count": null,
   "metadata": {
    "colab": {},
    "colab_type": "code",
    "id": "cAiC6Oo1IlZs"
   },
   "outputs": [],
   "source": [
    "'''import zipfile\n",
    "import os\n",
    "for file_name in os.listdir('/content/'):\n",
    "  if file_name.endswith('.zip'):\n",
    "    with zipfile.ZipFile(file_name,'r') as zip_dir:\n",
    "      zip_dir.extractall(path='/content/')'''"
   ]
  },
  {
   "cell_type": "code",
   "execution_count": null,
   "metadata": {
    "colab": {},
    "colab_type": "code",
    "id": "eIhH919APeYs"
   },
   "outputs": [],
   "source": [
    "'''import zipfile\n",
    "import os\n",
    "for file_name in os.listdir('/content/drive/My Drive/temp/'):\n",
    "  if file_name.endswith('.zip'):\n",
    "    with zipfile.ZipFile('/content/drive/My Drive/temp/'+file_name,'r') as zip_dir:\n",
    "      zip_dir.extractall(path='/content/')'''"
   ]
  },
  {
   "cell_type": "code",
   "execution_count": null,
   "metadata": {
    "colab": {},
    "colab_type": "code",
    "id": "kpx_t7xT0r-W"
   },
   "outputs": [],
   "source": [
    "def getBERTModel():\n",
    "    input_word_ids = tf.keras.layers.Input(shape=(max_seq_length,), dtype=tf.int32,name=\"input_word_ids\")\n",
    "    input_mask = tf.keras.layers.Input(shape=(max_seq_length,), dtype=tf.int32,name=\"input_mask\")\n",
    "    segment_ids = tf.keras.layers.Input(shape=(max_seq_length,), dtype=tf.int32,name=\"segment_ids\")\n",
    "\n",
    "    bert_layer = hub.KerasLayer(\"https://tfhub.dev/tensorflow/bert_en_uncased_L-12_H-768_A-12/1\",trainable=False)\n",
    "    #bert_layer = hub.KerasLayer(\"https://tfhub.dev/tensorflow/bert_en_uncased_L-24_H-1024_A-16/1\",trainable=False)\n",
    "    \n",
    "    pooled_output, sequence_output = bert_layer([input_word_ids, input_mask, segment_ids])\n",
    "\n",
    "    model = Model(inputs=[input_word_ids, input_mask, segment_ids], outputs=[pooled_output, sequence_output])\n",
    "\n",
    "    # Import tokenizer using the original vocab file\n",
    "    vocab_file = bert_layer.resolved_object.vocab_file.asset_path.numpy()\n",
    "    do_lower_case = bert_layer.resolved_object.do_lower_case.numpy()\n",
    "    FullTokenizer = bert.bert_tokenization.FullTokenizer\n",
    "    tokenizer = FullTokenizer(vocab_file, do_lower_case)\n",
    "\n",
    "    return {'model':model,'tokenizer':tokenizer}"
   ]
  },
  {
   "cell_type": "code",
   "execution_count": null,
   "metadata": {
    "colab": {},
    "colab_type": "code",
    "id": "zo2A6hIX0ucg"
   },
   "outputs": [],
   "source": [
    "def get_masks(tokens, max_seq_length):\n",
    "    \"\"\"Mask for padding\"\"\"\n",
    "    #print('len(tokens),max_seq_length)\n",
    "    if len(tokens)>max_seq_length:\n",
    "        raise IndexError(\"Token length more than max seq length!\")\n",
    "    return [1]*len(tokens) + [0] * (max_seq_length - len(tokens))\n",
    "\n",
    "\n",
    "def get_segments(tokens, max_seq_length):\n",
    "    \"\"\"Segments: 0 for the first sequence, 1 for the second\"\"\"\n",
    "    if len(tokens)>max_seq_length:\n",
    "        raise IndexError(\"Token length more than max seq length!\")\n",
    "    segments = []\n",
    "    current_segment_id = 0\n",
    "    for token in tokens:\n",
    "        segments.append(current_segment_id)\n",
    "        if token == \"[SEP]\":\n",
    "            current_segment_id = 1\n",
    "    return segments + [0] * (max_seq_length - len(tokens))\n",
    "\n",
    "\n",
    "def get_ids(tokens, tokenizer, max_seq_length):\n",
    "    \"\"\"Token ids from Tokenizer vocab\"\"\"\n",
    "    token_ids = tokenizer.convert_tokens_to_ids(tokens)\n",
    "    input_ids = token_ids + [0] * (max_seq_length-len(token_ids))\n",
    "    return input_ids"
   ]
  },
  {
   "cell_type": "code",
   "execution_count": null,
   "metadata": {
    "colab": {},
    "colab_type": "code",
    "id": "miR9WNLZ0xef"
   },
   "outputs": [],
   "source": [
    "def getEmbeddings(model,tokenizer,sentence): \n",
    "    stokens = tokenizer.tokenize(sentence)\n",
    "\n",
    "    if len(stokens) > (max_seq_length - 2):\n",
    "      stokens = stokens[:max_seq_length-2]\n",
    "\n",
    "    stokens = [\"[CLS]\"] + stokens + [\"[SEP]\"]\n",
    "\n",
    "    input_ids = get_ids(stokens, tokenizer, max_seq_length)\n",
    "    #print(len(input_ids))\n",
    "    input_masks = get_masks(stokens, max_seq_length)\n",
    "    input_segments = get_segments(stokens, max_seq_length)\n",
    "\n",
    "    '''print(input_masks)\n",
    "    print(input_segments)'''\n",
    "\n",
    "    pool_embs, all_embs = model.predict([[input_ids],[input_masks],[input_segments]])\n",
    "    '''print('see')\n",
    "    print(all_embs.shape)\n",
    "    print(pool_embs.shape)'''\n",
    "    # pool_ebmbs is an embeding of CLS token\n",
    "    # all_embs contains embeding for words of input sentence.\n",
    "    return pool_embs"
   ]
  },
  {
   "cell_type": "code",
   "execution_count": null,
   "metadata": {
    "colab": {
     "base_uri": "https://localhost:8080/",
     "height": 34
    },
    "colab_type": "code",
    "id": "CrHNNGDn1YW-",
    "outputId": "c2f11292-b54e-4a74-b414-3f979e427c6f"
   },
   "outputs": [],
   "source": [
    "'''def getSTrData(model,tokenizer,sentence):\n",
    "    embs = getEmbeddings(model,tokenizer,sentence)\n",
    "    return embs'''"
   ]
  },
  {
   "cell_type": "code",
   "execution_count": null,
   "metadata": {
    "colab": {},
    "colab_type": "code",
    "id": "5PE3r74y1LuO"
   },
   "outputs": [],
   "source": [
    "def getTrainingData(model,tokenizer,nSentences):\n",
    "    trainX = np.asarray([])\n",
    "    #trainY = np.asarray([])\n",
    "    n = len(nSentences)\n",
    "    for i in range(n): \n",
    "        if i%100 == 0:\n",
    "          print( 'Processing ',i,' out of ',n)\n",
    "\n",
    "        senLen = len(nSentences[i].split())\n",
    "        embs = getEmbeddings(model,tokenizer,nSentences[i])\n",
    "        '''print(embs.shape)\n",
    "        x = embs'''\n",
    "        if trainX.shape[0] == 0:\n",
    "            trainX = embs\n",
    "            #trainY = y\n",
    "        else:\n",
    "            trainX = np.concatenate((trainX, embs), axis=0)\n",
    "            #trainY = np.concatenate((trainY, y), axis=0)\n",
    "    return trainX"
   ]
  },
  {
   "cell_type": "code",
   "execution_count": null,
   "metadata": {
    "colab": {},
    "colab_type": "code",
    "id": "ePDYiNRm6Dax"
   },
   "outputs": [],
   "source": [
    "def saveJD(df,fileName):\n",
    "    JDs = list(df.job_description)\n",
    "    print(len(JDs))\n",
    "    with open(fileName, 'w',encoding=\"utf-8\") as f:\n",
    "        for strEle in JDs:\n",
    "            ele = strEle.replace(\"\\r\", \"\")\n",
    "            ele =  ele.replace(\"\\n\", \"\")\n",
    "            ele = ele.strip().lower()\n",
    "            f.write(ele)\n",
    "            f.write('\\n')"
   ]
  },
  {
   "cell_type": "code",
   "execution_count": null,
   "metadata": {
    "colab": {
     "base_uri": "https://localhost:8080/",
     "height": 34
    },
    "colab_type": "code",
    "id": "MEEztpgAPOu9",
    "outputId": "6d68c525-3b7b-4fa0-860b-44197eca00be"
   },
   "outputs": [],
   "source": [
    "from keras import backend as K\n",
    "\n",
    "def recall_m(y_true, y_pred):\n",
    "    true_positives = K.sum(K.round(K.clip(y_true * y_pred, 0, 1)))\n",
    "    possible_positives = K.sum(K.round(K.clip(y_true, 0, 1)))\n",
    "    recall = true_positives / (possible_positives + K.epsilon())\n",
    "    return recall\n",
    "\n",
    "def precision_m(y_true, y_pred):\n",
    "    true_positives = K.sum(K.round(K.clip(y_true * y_pred, 0, 1)))\n",
    "    predicted_positives = K.sum(K.round(K.clip(y_pred, 0, 1)))\n",
    "    precision = true_positives / (predicted_positives + K.epsilon())\n",
    "    return precision\n",
    "\n",
    "def f1_m(y_true, y_pred):\n",
    "    precision = precision_m(y_true, y_pred)\n",
    "    recall = recall_m(y_true, y_pred)\n",
    "    return 2*((precision*recall)/(precision+recall+K.epsilon()))"
   ]
  },
  {
   "cell_type": "code",
   "execution_count": null,
   "metadata": {
    "colab": {
     "base_uri": "https://localhost:8080/",
     "height": 54
    },
    "colab_type": "code",
    "id": "bSzDAdPLpgXj",
    "outputId": "c224a83c-af9d-4009-fad3-cf7e4a50f8e9"
   },
   "outputs": [],
   "source": [
    "'''def createModel():\n",
    "    model = keras.models.Sequential()\n",
    "    model.add(keras.layers.Dense(400,input_dim=bertOutDim,activation=\"relu\"))\n",
    "    model.add(keras.layers.Dense(150,activation=\"relu\"))\n",
    "    #model.add(keras.layers.Dense(256,activation=\"relu\"))\n",
    "    model.add(keras.layers.Dense(outDim,activation=\"softmax\"))\n",
    "    model.compile(loss=\"categorical_crossentropy\",optimizer=\"adam\",metrics=['accuracy'])\n",
    "    return model'''"
   ]
  },
  {
   "cell_type": "code",
   "execution_count": null,
   "metadata": {
    "colab": {},
    "colab_type": "code",
    "id": "-E3szxnhios5"
   },
   "outputs": [],
   "source": [
    "def createModel():\n",
    "    model = keras.models.Sequential()\n",
    "\n",
    "    model.add(keras.layers.Dense(500,input_dim=bertOutDim,activation=\"relu\"))\n",
    "    model.add(keras.layers.BatchNormalization())\n",
    "\n",
    "    model.add(keras.layers.Dense(256,activation=\"relu\"))\n",
    "    model.add(keras.layers.BatchNormalization())\n",
    "\n",
    "    model.add(keras.layers.Dense(128,activation=\"relu\"))\n",
    "    model.add(keras.layers.BatchNormalization())\n",
    "\n",
    "    model.add(keras.layers.Dense(64,activation=\"relu\"))\n",
    "    model.add(keras.layers.BatchNormalization())\n",
    "\n",
    "    '''model.add(keras.layers.Dense(30,activation=\"relu\"))\n",
    "    model.add(keras.layers.BatchNormalization())'''\n",
    "\n",
    "    model.add(keras.layers.Dense(outDim,activation=\"softmax\"))\n",
    "\n",
    "    optimizer = keras.optimizers.Adam(learning_rate=0.0001)\n",
    "    model.compile(loss=\"categorical_crossentropy\",optimizer=optimizer,metrics=['accuracy',f1_m])\n",
    "    #model.compile(loss=\"categorical_crossentropy\",optimizer=optimizer,metrics=['accuracy'])\n",
    "    return model"
   ]
  },
  {
   "cell_type": "code",
   "execution_count": null,
   "metadata": {
    "colab": {},
    "colab_type": "code",
    "id": "Gj_W5jyzuGqY"
   },
   "outputs": [],
   "source": [
    "def getGroundTruth(id):\n",
    "    gt = [0]*(id) + [1] + [0]*(outDim-id-1)\n",
    "    #print('gt len:',len(gt))\n",
    "    return np.asarray(gt)"
   ]
  },
  {
   "cell_type": "code",
   "execution_count": null,
   "metadata": {
    "colab": {},
    "colab_type": "code",
    "id": "3nnKlhTtuhLX"
   },
   "outputs": [],
   "source": [
    "def getGTMat(labels):\n",
    "    labMat = np.asarray([])\n",
    "    for i in range(labels.shape[0]):\n",
    "        gt = getGroundTruth(labels[i])\n",
    "        if labMat.shape[0] == 0:\n",
    "            labMat = np.asarray([gt])\n",
    "        else:\n",
    "            labMat = np.concatenate((labMat,np.asarray([gt])), axis=0)\n",
    "    return labMat"
   ]
  },
  {
   "cell_type": "code",
   "execution_count": null,
   "metadata": {
    "colab": {},
    "colab_type": "code",
    "id": "A1w5bXB104G-"
   },
   "outputs": [],
   "source": [
    "def getMax(modelOutInst):\n",
    "    #print(modelOutInst.shape)\n",
    "    score = np.amax(modelOutInst)\n",
    "    ind = np.where(modelOutInst == score)[0][0]\n",
    "    #print(ind)\n",
    "    return ind"
   ]
  },
  {
   "cell_type": "code",
   "execution_count": null,
   "metadata": {
    "colab": {},
    "colab_type": "code",
    "id": "JvXg4AMC1TXG"
   },
   "outputs": [],
   "source": [
    "def getAllpd(modelOut):\n",
    "    indLi = []\n",
    "    for i in range(modelOut.shape[0]):\n",
    "        ind = getMax(modelOut[i])\n",
    "        indLi.append(ind)\n",
    "    return np.asarray(indLi)"
   ]
  },
  {
   "cell_type": "markdown",
   "metadata": {
    "colab_type": "text",
    "id": "mqUsoB3IEzux"
   },
   "source": [
    "# **Embedding Generation**"
   ]
  },
  {
   "cell_type": "code",
   "execution_count": null,
   "metadata": {
    "colab": {
     "base_uri": "https://localhost:8080/",
     "height": 34
    },
    "colab_type": "code",
    "id": "WZXT3-9E6i-I",
    "outputId": "33c73114-dd52-460b-93e8-d9ff248cc3ea"
   },
   "outputs": [],
   "source": [
    "df = pd.read_csv(train_file, index_col=False)\n",
    "saveJD(df,jdFile)"
   ]
  },
  {
   "cell_type": "code",
   "execution_count": null,
   "metadata": {
    "colab": {},
    "colab_type": "code",
    "id": "F2QT00QL00A0"
   },
   "outputs": [],
   "source": [
    "outModel = getBERTModel()\n",
    "model = outModel['model']\n",
    "tokenizer = outModel['tokenizer']"
   ]
  },
  {
   "cell_type": "code",
   "execution_count": null,
   "metadata": {
    "colab": {},
    "colab_type": "code",
    "id": "2PF2ZANB1DQH"
   },
   "outputs": [],
   "source": [
    "#nSentence = [\"short cuts make long delays\",\"short cuts make long delays\"]"
   ]
  },
  {
   "cell_type": "code",
   "execution_count": null,
   "metadata": {
    "colab": {},
    "colab_type": "code",
    "id": "LZm05bLxJaRk"
   },
   "outputs": [],
   "source": [
    "f = open(jdFile, 'r')\n",
    "nSentence = f.read().splitlines()\n",
    "f.close()"
   ]
  },
  {
   "cell_type": "code",
   "execution_count": null,
   "metadata": {
    "colab": {
     "base_uri": "https://localhost:8080/",
     "height": 163
    },
    "colab_type": "code",
    "id": "Y93_rgIA1EYQ",
    "outputId": "b8896ba6-d92e-4faa-a617-e351d28624d0"
   },
   "outputs": [],
   "source": [
    "trainX = getTrainingData(model,tokenizer,nSentence)"
   ]
  },
  {
   "cell_type": "code",
   "execution_count": null,
   "metadata": {
    "colab": {
     "base_uri": "https://localhost:8080/",
     "height": 34
    },
    "colab_type": "code",
    "id": "CkMI93CX2q5o",
    "outputId": "2ccd8263-db78-44ec-9c2a-488bdb746f2d"
   },
   "outputs": [],
   "source": [
    "print(trainX.shape)"
   ]
  },
  {
   "cell_type": "code",
   "execution_count": null,
   "metadata": {
    "colab": {},
    "colab_type": "code",
    "id": "lcKuL8kzJjRY"
   },
   "outputs": [],
   "source": [
    "#np.savetxt('trainX.csv',trainX, delimiter=',',fmt='%8.4f')\n",
    "trainX = np.loadtxt('trainX.csv',delimiter=',')"
   ]
  },
  {
   "cell_type": "markdown",
   "metadata": {
    "colab_type": "text",
    "id": "SoMaV4DaE5_M"
   },
   "source": [
    "# **Dataset Generation**"
   ]
  },
  {
   "cell_type": "code",
   "execution_count": null,
   "metadata": {
    "colab": {},
    "colab_type": "code",
    "id": "YtUQ4GM87McA"
   },
   "outputs": [],
   "source": [
    "from sklearn import preprocessing\n",
    "le = preprocessing.LabelEncoder()\n",
    "le.fit(df.category)\n",
    "pickle.dump(le, open('/content/catlabelFit.sav', 'wb'))"
   ]
  },
  {
   "cell_type": "code",
   "execution_count": null,
   "metadata": {
    "colab": {
     "base_uri": "https://localhost:8080/",
     "height": 85
    },
    "colab_type": "code",
    "id": "Y5DYVXkG7kuQ",
    "outputId": "c1d637f7-d2bc-4aea-c8ba-0df47c3cffb7"
   },
   "outputs": [],
   "source": [
    "cat = le.transform(df.category)\n",
    "print(cat.shape)\n",
    "cat = getGTMat(cat)\n",
    "print(cat.shape)\n",
    "print(trainX.shape)\n",
    "saveData = np.concatenate((trainX,cat),axis=1)\n",
    "print(saveData.shape)\n",
    "np.savetxt('/content/catTrain.csv',saveData, delimiter=',',fmt='%8.4f')"
   ]
  },
  {
   "cell_type": "code",
   "execution_count": null,
   "metadata": {
    "colab": {},
    "colab_type": "code",
    "id": "kKnFrpBz7-eG"
   },
   "outputs": [],
   "source": [
    "le.fit(df.job_type)\n",
    "pickle.dump(le, open('/content/typlabelFit.sav', 'wb'))"
   ]
  },
  {
   "cell_type": "code",
   "execution_count": null,
   "metadata": {
    "colab": {
     "base_uri": "https://localhost:8080/",
     "height": 51
    },
    "colab_type": "code",
    "id": "aVw4Qjr68HOo",
    "outputId": "7fb5f913-b61d-4eac-f66c-443c401a27bc"
   },
   "outputs": [],
   "source": [
    "typ = le.fit_transform(df.job_type)\n",
    "print(typ.shape)\n",
    "saveData = np.concatenate((trainX,np.asarray([typ]).T),axis=1)\n",
    "print(saveData.shape)\n",
    "np.savetxt('/content/typTrain.csv',saveData, delimiter=',',fmt='%8.4f')"
   ]
  },
  {
   "cell_type": "markdown",
   "metadata": {
    "colab_type": "text",
    "id": "8R3p4iDT-EW4"
   },
   "source": [
    "# **Training**"
   ]
  },
  {
   "cell_type": "code",
   "execution_count": null,
   "metadata": {
    "colab": {},
    "colab_type": "code",
    "id": "SY6Jusyw9bqb"
   },
   "outputs": [],
   "source": [
    "loadData = np.loadtxt('/content/catTrain.csv',delimiter=',')\n",
    "labels = loadData[:,bertOutDim:]\n",
    "dataset = loadData[:,:bertOutDim]"
   ]
  },
  {
   "cell_type": "code",
   "execution_count": null,
   "metadata": {
    "colab": {
     "base_uri": "https://localhost:8080/",
     "height": 51
    },
    "colab_type": "code",
    "id": "ubPzy8gG9pJ5",
    "outputId": "18a6bd15-6118-4bb8-e817-938033e4ffb8"
   },
   "outputs": [],
   "source": [
    "print(dataset.shape)\n",
    "print(labels.shape)"
   ]
  },
  {
   "cell_type": "code",
   "execution_count": null,
   "metadata": {
    "colab": {},
    "colab_type": "code",
    "id": "yNe9NzLr9tn_"
   },
   "outputs": [],
   "source": [
    "from sklearn.model_selection import train_test_split\n",
    "trainX,testX, trainY, testY = train_test_split(dataset, labels,train_size = 0.8, test_size=0.2, random_state=4,stratify = labels)"
   ]
  },
  {
   "cell_type": "code",
   "execution_count": null,
   "metadata": {
    "colab": {},
    "colab_type": "code",
    "id": "iCVMjVIsw4NK"
   },
   "outputs": [],
   "source": [
    "trainX = dataset\n",
    "trainY = labels"
   ]
  },
  {
   "cell_type": "code",
   "execution_count": null,
   "metadata": {
    "colab": {
     "base_uri": "https://localhost:8080/",
     "height": 34
    },
    "colab_type": "code",
    "id": "SEquaw1YQ6ml",
    "outputId": "690356c0-2bfa-4735-f49a-205398a412c0"
   },
   "outputs": [],
   "source": [
    "'''model = createModel()\n",
    "model.summary()'''"
   ]
  },
  {
   "cell_type": "code",
   "execution_count": null,
   "metadata": {
    "colab": {
     "base_uri": "https://localhost:8080/",
     "height": 1000
    },
    "colab_type": "code",
    "id": "pQtIaAfopgYd",
    "outputId": "63248717-e351-4388-eb47-90a4238a50ae"
   },
   "outputs": [],
   "source": [
    "epochs = 500\n",
    "model = createModel()\n",
    "\n",
    "checkpoint_path = '/content/ckpt/model.ckpt'\n",
    "#checkpoint_path = '/content/drive/My Drive/temp/model.ckpt'\n",
    "model.load_weights(checkpoint_path)\n",
    "checkpoint_path = '/content/drive/My Drive/temp/model.ckpt'\n",
    "#checkpoint_path = '/content/ckpt/model.ckpt'\n",
    "\n",
    "cp_callback = tf.keras.callbacks.ModelCheckpoint(filepath=checkpoint_path,save_weights_only=True,verbose=1)\n",
    "history_callback = model.fit(trainX,trainY,epochs=epochs,callbacks=[cp_callback])\n",
    "loss_history = history_callback.history[\"loss\"]\n",
    "np.savetxt(\"loss_history.txt\", np.array(loss_history), delimiter=\",\",fmt='%8.4f')"
   ]
  },
  {
   "cell_type": "code",
   "execution_count": null,
   "metadata": {
    "colab": {
     "base_uri": "https://localhost:8080/",
     "height": 71
    },
    "colab_type": "code",
    "id": "7GMzijMmpgYg",
    "outputId": "f6cdceb8-5188-4047-bf93-a4ae14d5f290"
   },
   "outputs": [],
   "source": [
    "acc = model.evaluate(testX, testY)\n",
    "print(acc)"
   ]
  },
  {
   "cell_type": "code",
   "execution_count": null,
   "metadata": {
    "colab": {},
    "colab_type": "code",
    "id": "8cbbJoKO-tMg"
   },
   "outputs": [],
   "source": [
    "loadData = np.loadtxt('/content/typTrain.csv',delimiter=',')\n",
    "labels = loadData[:,-1]\n",
    "dataset = loadData[:,:-1]"
   ]
  },
  {
   "cell_type": "code",
   "execution_count": null,
   "metadata": {
    "colab": {
     "base_uri": "https://localhost:8080/",
     "height": 51
    },
    "colab_type": "code",
    "id": "V8tAPv0m-wG5",
    "outputId": "88dedcd5-1e4d-4a6f-c996-06482ccdbcd1"
   },
   "outputs": [],
   "source": [
    "print(dataset.shape)\n",
    "print(labels.shape)"
   ]
  },
  {
   "cell_type": "code",
   "execution_count": null,
   "metadata": {
    "colab": {},
    "colab_type": "code",
    "id": "XMilBqJS-x6-"
   },
   "outputs": [],
   "source": [
    "trainX,testX, trainY, testY = train_test_split(dataset, labels,train_size = 0.8, test_size=0.2, random_state=42,stratify = labels)"
   ]
  },
  {
   "cell_type": "code",
   "execution_count": null,
   "metadata": {
    "colab": {},
    "colab_type": "code",
    "id": "MZKH6hmXLRLY"
   },
   "outputs": [],
   "source": [
    "svm_c = 0.01\n",
    "svm_gamma = 10\n",
    "svm_kernal = 'linear'\n",
    "\n",
    "estimators = 100"
   ]
  },
  {
   "cell_type": "code",
   "execution_count": null,
   "metadata": {
    "colab": {},
    "colab_type": "code",
    "id": "jStA9QeE-1K5"
   },
   "outputs": [],
   "source": [
    "#model = svm.SVC(C=10,kernel='rbf',gamma=0.01)\n",
    "#model = svm.SVC(C=svm_c,kernel=svm_kernal,gamma=svm_gamma,class_weight='balanced')\n",
    "#model = svm.SVC(C=svm_c,kernel=svm_kernal,class_weight='balanced')\n",
    "\n",
    "from sklearn.ensemble import RandomForestClassifier\n",
    "model = RandomForestClassifier(n_estimators=estimators)"
   ]
  },
  {
   "cell_type": "code",
   "execution_count": null,
   "metadata": {
    "colab": {
     "base_uri": "https://localhost:8080/",
     "height": 34
    },
    "colab_type": "code",
    "id": "taFULuHH-3Ry",
    "outputId": "42188d2d-0a7e-4421-ac86-c3933e3cdf53"
   },
   "outputs": [],
   "source": [
    "print(\"training started...\")\n",
    "model.fit(trainX,trainY)\n",
    "pickle.dump(model, open('/content/typModel.sav', 'wb'))"
   ]
  },
  {
   "cell_type": "code",
   "execution_count": null,
   "metadata": {
    "colab": {
     "base_uri": "https://localhost:8080/",
     "height": 34
    },
    "colab_type": "code",
    "id": "HGDEZY7J-7b-",
    "outputId": "3aa1f333-cc90-4f0a-8e3c-86c3a4599824"
   },
   "outputs": [],
   "source": [
    "acc = model.score(testX,testY)\n",
    "print(acc)"
   ]
  },
  {
   "cell_type": "markdown",
   "metadata": {
    "colab_type": "text",
    "id": "bRvB_UiP_Mvg"
   },
   "source": [
    "# **Submission** **Predictor**"
   ]
  },
  {
   "cell_type": "code",
   "execution_count": null,
   "metadata": {
    "colab": {
     "base_uri": "https://localhost:8080/",
     "height": 34
    },
    "colab_type": "code",
    "id": "BXqD30iM_fNk",
    "outputId": "fd31869c-f2f8-4f66-d640-725440ea6d2d"
   },
   "outputs": [],
   "source": [
    "df = pd.read_csv(test_file, index_col=False)\n",
    "#df.job_no\n",
    "testJd = '/content/testJd.txt'\n",
    "saveJD(df,testJd)"
   ]
  },
  {
   "cell_type": "code",
   "execution_count": null,
   "metadata": {
    "colab": {},
    "colab_type": "code",
    "id": "MyHPYcRzAZth"
   },
   "outputs": [],
   "source": [
    "f = open(testJd, 'r')\n",
    "nSentence = f.read().splitlines()\n",
    "f.close()"
   ]
  },
  {
   "cell_type": "code",
   "execution_count": null,
   "metadata": {
    "colab": {},
    "colab_type": "code",
    "id": "PuBkNgzyAkKe"
   },
   "outputs": [],
   "source": [
    "testX = getTrainingData(model,tokenizer,nSentence)"
   ]
  },
  {
   "cell_type": "code",
   "execution_count": null,
   "metadata": {
    "colab": {
     "base_uri": "https://localhost:8080/",
     "height": 34
    },
    "colab_type": "code",
    "id": "MYwCteyMAsdP",
    "outputId": "6b6aa5cd-d15c-4642-f1b1-95fa3a785a9f"
   },
   "outputs": [],
   "source": [
    "print(testX.shape)"
   ]
  },
  {
   "cell_type": "code",
   "execution_count": null,
   "metadata": {
    "colab": {},
    "colab_type": "code",
    "id": "7LONbM85As0-"
   },
   "outputs": [],
   "source": [
    "#np.savetxt('testX.csv',testX, delimiter=',',fmt='%8.4f')\n",
    "testX = np.loadtxt('testX.csv',delimiter=',')"
   ]
  },
  {
   "cell_type": "code",
   "execution_count": null,
   "metadata": {
    "colab": {},
    "colab_type": "code",
    "id": "uEI0giCWBOsw"
   },
   "outputs": [],
   "source": [
    "model = createModel()\n",
    "model.load_weights(checkpoint_path)\n",
    "le = pickle.load(open('/content/catlabelFit.sav', 'rb'))  # le = preprocessing.LabelEncoder()"
   ]
  },
  {
   "cell_type": "code",
   "execution_count": null,
   "metadata": {
    "colab": {},
    "colab_type": "code",
    "id": "QDGsPOT6BtIX"
   },
   "outputs": [],
   "source": [
    "catPredTemp = model.predict(testX)\n",
    "catPredTemp = getAllpd(catPredTemp)\n",
    "#print(catPredTemp[0])\n",
    "catPred = le.inverse_transform(catPredTemp)"
   ]
  },
  {
   "cell_type": "code",
   "execution_count": null,
   "metadata": {
    "colab": {},
    "colab_type": "code",
    "id": "3yQoM_NnCKln"
   },
   "outputs": [],
   "source": [
    "model = pickle.load(open('/content/typModel.sav', 'rb'))\n",
    "le = pickle.load(open('/content/typlabelFit.sav', 'rb'))"
   ]
  },
  {
   "cell_type": "code",
   "execution_count": null,
   "metadata": {
    "colab": {},
    "colab_type": "code",
    "id": "1qgsxub9CLvH"
   },
   "outputs": [],
   "source": [
    "typPredTemp = model.predict(testX).astype(int)\n",
    "typPred = le.inverse_transform(typPredTemp)"
   ]
  },
  {
   "cell_type": "code",
   "execution_count": null,
   "metadata": {
    "colab": {
     "base_uri": "https://localhost:8080/",
     "height": 34
    },
    "colab_type": "code",
    "id": "j8SHNbUUDdnz",
    "outputId": "04c3bb53-4b75-449b-b1de-d750c11e195a"
   },
   "outputs": [],
   "source": [
    "'''dict = {'job_no':df.job_no, \n",
    "        'category': catPred, \n",
    "        'job_type': typPred}'''"
   ]
  },
  {
   "cell_type": "code",
   "execution_count": null,
   "metadata": {
    "colab": {},
    "colab_type": "code",
    "id": "92aujPUJLBUU"
   },
   "outputs": [],
   "source": [
    "dict = {'job_no':df.job_no,  \n",
    "        'job_type': typPred,\n",
    "        'category': catPred}"
   ]
  },
  {
   "cell_type": "code",
   "execution_count": null,
   "metadata": {
    "colab": {},
    "colab_type": "code",
    "id": "qIur5sNPD66E"
   },
   "outputs": [],
   "source": [
    "dfSub = pd.DataFrame(dict)\n",
    "dfSub.to_csv('/content/submission.csv',index=False)"
   ]
  },
  {
   "cell_type": "code",
   "execution_count": null,
   "metadata": {
    "colab": {
     "base_uri": "https://localhost:8080/",
     "height": 204
    },
    "colab_type": "code",
    "id": "ygp70wxrh-Ue",
    "outputId": "ff900090-14da-40c5-9900-46c475b73650"
   },
   "outputs": [],
   "source": [
    "dfSub.head()"
   ]
  }
 ],
 "metadata": {
  "accelerator": "GPU",
  "colab": {
   "collapsed_sections": [],
   "name": "commonNeural.ipynb",
   "provenance": [],
   "toc_visible": true
  },
  "kernelspec": {
   "display_name": "Python 3",
   "language": "python",
   "name": "python3"
  },
  "language_info": {
   "codemirror_mode": {
    "name": "ipython",
    "version": 3
   },
   "file_extension": ".py",
   "mimetype": "text/x-python",
   "name": "python",
   "nbconvert_exporter": "python",
   "pygments_lexer": "ipython3",
   "version": "3.7.3"
  }
 },
 "nbformat": 4,
 "nbformat_minor": 1
}
