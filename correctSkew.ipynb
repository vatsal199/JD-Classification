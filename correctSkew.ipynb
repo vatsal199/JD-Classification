{
 "cells": [
  {
   "cell_type": "code",
   "execution_count": 14,
   "metadata": {},
   "outputs": [],
   "source": [
    "import pandas as pd\n",
    "import numpy as np"
   ]
  },
  {
   "cell_type": "code",
   "execution_count": 15,
   "metadata": {},
   "outputs": [],
   "source": [
    "train_file = \"train.csv\"\n",
    "jdFile = \"trainJD.txt\"\n",
    "train_rows = 1000"
   ]
  },
  {
   "cell_type": "code",
   "execution_count": 16,
   "metadata": {},
   "outputs": [
    {
     "data": {
      "text/html": [
       "<div>\n",
       "<style scoped>\n",
       "    .dataframe tbody tr th:only-of-type {\n",
       "        vertical-align: middle;\n",
       "    }\n",
       "\n",
       "    .dataframe tbody tr th {\n",
       "        vertical-align: top;\n",
       "    }\n",
       "\n",
       "    .dataframe thead th {\n",
       "        text-align: right;\n",
       "    }\n",
       "</style>\n",
       "<table border=\"1\" class=\"dataframe\">\n",
       "  <thead>\n",
       "    <tr style=\"text-align: right;\">\n",
       "      <th></th>\n",
       "      <th>job_no</th>\n",
       "      <th>job_description</th>\n",
       "      <th>job_type</th>\n",
       "      <th>category</th>\n",
       "    </tr>\n",
       "  </thead>\n",
       "  <tbody>\n",
       "    <tr>\n",
       "      <td>0</td>\n",
       "      <td>Id-12765</td>\n",
       "      <td>Zest Scientific is searching for an accomplis...</td>\n",
       "      <td>Permanent</td>\n",
       "      <td>Pharmaceutical, Healthcare and Medical Sales</td>\n",
       "    </tr>\n",
       "    <tr>\n",
       "      <td>1</td>\n",
       "      <td>Id-22925</td>\n",
       "      <td>En el mundo de los CRO's típicos, esta compañí...</td>\n",
       "      <td>Permanent</td>\n",
       "      <td>Clinical Research</td>\n",
       "    </tr>\n",
       "    <tr>\n",
       "      <td>2</td>\n",
       "      <td>Id-1321</td>\n",
       "      <td>Asha Mistry of Umbilical Life is recruiting an...</td>\n",
       "      <td>Contract/Interim</td>\n",
       "      <td>Pharmaceutical Marketing</td>\n",
       "    </tr>\n",
       "    <tr>\n",
       "      <td>3</td>\n",
       "      <td>Id-9473</td>\n",
       "      <td>Sales Representative - Laser in der Medizinte...</td>\n",
       "      <td>Permanent</td>\n",
       "      <td>Pharmaceutical, Healthcare and Medical Sales</td>\n",
       "    </tr>\n",
       "    <tr>\n",
       "      <td>4</td>\n",
       "      <td>Id-14952</td>\n",
       "      <td>Field Service Engineer - Life Science\\r\\r\\r\\nC...</td>\n",
       "      <td>Permanent</td>\n",
       "      <td>Manufacturing &amp; Operations</td>\n",
       "    </tr>\n",
       "  </tbody>\n",
       "</table>\n",
       "</div>"
      ],
      "text/plain": [
       "     job_no                                    job_description  \\\n",
       "0  Id-12765   Zest Scientific is searching for an accomplis...   \n",
       "1  Id-22925  En el mundo de los CRO's típicos, esta compañí...   \n",
       "2   Id-1321  Asha Mistry of Umbilical Life is recruiting an...   \n",
       "3   Id-9473   Sales Representative - Laser in der Medizinte...   \n",
       "4  Id-14952  Field Service Engineer - Life Science\\r\\r\\r\\nC...   \n",
       "\n",
       "           job_type                                      category  \n",
       "0         Permanent  Pharmaceutical, Healthcare and Medical Sales  \n",
       "1         Permanent                             Clinical Research  \n",
       "2  Contract/Interim                      Pharmaceutical Marketing  \n",
       "3         Permanent  Pharmaceutical, Healthcare and Medical Sales  \n",
       "4         Permanent                    Manufacturing & Operations  "
      ]
     },
     "execution_count": 16,
     "metadata": {},
     "output_type": "execute_result"
    }
   ],
   "source": [
    "df = pd.read_csv(train_file, index_col=False)\n",
    "#df = pd.read_csv(train_file, index_col=False,nrows=train_rows)\n",
    "df.head()"
   ]
  },
  {
   "cell_type": "code",
   "execution_count": 17,
   "metadata": {},
   "outputs": [
    {
     "data": {
      "text/plain": [
       "Pharmaceutical, Healthcare and Medical Sales    4507\n",
       "Clinical Research                               3172\n",
       "Science                                         2932\n",
       "Manufacturing & Operations                      2235\n",
       "Regulatory Affairs                              1163\n",
       "Pharmaceutical Marketing                        1071\n",
       "Data Management and Statistics                   829\n",
       "Quality-assurance                                703\n",
       "Medical Information and Pharmacovigilance        561\n",
       "Medical Affairs / Pharmaceutical Physician       458\n",
       "Pharmacy                                          26\n",
       "Name: category, dtype: int64"
      ]
     },
     "execution_count": 17,
     "metadata": {},
     "output_type": "execute_result"
    }
   ],
   "source": [
    "df.category.value_counts(ascending=False)"
   ]
  },
  {
   "cell_type": "code",
   "execution_count": 18,
   "metadata": {},
   "outputs": [
    {
     "data": {
      "text/plain": [
       "Permanent             15777\n",
       "Contract/Interim       1414\n",
       "Contract/Temp           305\n",
       "Temporary/Seasonal      113\n",
       "Any                      25\n",
       "Part-Time                23\n",
       "Name: job_type, dtype: int64"
      ]
     },
     "execution_count": 18,
     "metadata": {},
     "output_type": "execute_result"
    }
   ],
   "source": [
    "df.job_type.value_counts(ascending=False)"
   ]
  },
  {
   "cell_type": "code",
   "execution_count": 19,
   "metadata": {},
   "outputs": [],
   "source": [
    "def correctSkew(df,colName):\n",
    "    n = len(df[colName].unique())\n",
    "    trainX = np.asarray([])\n",
    "    mx = max(df[colName].value_counts(ascending=False))\n",
    "\n",
    "    for i in range(n):\n",
    "        label = df[colName].unique()[i]\n",
    "        inst = df[df['category'] == label]\n",
    "        addN = int(mx/inst.shape[0])\n",
    "        #print(label,addN)\n",
    "        while addN != 0:\n",
    "            addN = addN - 1\n",
    "            if trainX.shape[0] == 0:\n",
    "                trainX = inst\n",
    "            else:\n",
    "                trainX = np.concatenate((trainX, inst), axis=0)\n",
    "           \n",
    "    for i in range(n):\n",
    "        label = df[colName].unique()[i]\n",
    "        inst = df[df['category'] == label]\n",
    "        if label == \"Regulatory Affairs\" :\n",
    "            addInst = inst[:511]\n",
    "            trainX = np.concatenate((trainX, addInst), axis=0)\n",
    "        if label == \"Clinical Research\" :\n",
    "            addInst = inst[:1228]\n",
    "            trainX = np.concatenate((trainX, addInst), axis=0)\n",
    "        if label == \"Science\" :\n",
    "            addInst = inst[:1468]\n",
    "            trainX = np.concatenate((trainX, addInst), axis=0)\n",
    "\n",
    "    print(trainX.shape)\n",
    "    dfNew = pd.DataFrame(data=trainX,columns=df.columns)\n",
    "    return dfNew"
   ]
  },
  {
   "cell_type": "code",
   "execution_count": 20,
   "metadata": {},
   "outputs": [
    {
     "name": "stdout",
     "output_type": "stream",
     "text": [
      "(47532, 4)\n"
     ]
    }
   ],
   "source": [
    "dfNew = correctSkew(df,'category')"
   ]
  },
  {
   "cell_type": "code",
   "execution_count": 21,
   "metadata": {},
   "outputs": [],
   "source": [
    "#dfNew = pd.DataFrame(data=trainX,columns=df.columns)"
   ]
  },
  {
   "cell_type": "code",
   "execution_count": 23,
   "metadata": {},
   "outputs": [
    {
     "data": {
      "text/plain": [
       "Pharmaceutical, Healthcare and Medical Sales    4507\n",
       "Pharmacy                                        4498\n",
       "Medical Information and Pharmacovigilance       4488\n",
       "Manufacturing & Operations                      4470\n",
       "Clinical Research                               4400\n",
       "Science                                         4400\n",
       "Pharmaceutical Marketing                        4284\n",
       "Quality-assurance                               4218\n",
       "Data Management and Statistics                  4145\n",
       "Medical Affairs / Pharmaceutical Physician      4122\n",
       "Regulatory Affairs                              4000\n",
       "Name: category, dtype: int64"
      ]
     },
     "execution_count": 23,
     "metadata": {},
     "output_type": "execute_result"
    }
   ],
   "source": [
    "dfNew.category.value_counts(ascending=False)"
   ]
  },
  {
   "cell_type": "code",
   "execution_count": 24,
   "metadata": {},
   "outputs": [
    {
     "data": {
      "text/plain": [
       "Permanent             42633\n",
       "Contract/Interim       3450\n",
       "Contract/Temp          1004\n",
       "Temporary/Seasonal      366\n",
       "Any                      54\n",
       "Part-Time                25\n",
       "Name: job_type, dtype: int64"
      ]
     },
     "execution_count": 24,
     "metadata": {},
     "output_type": "execute_result"
    }
   ],
   "source": [
    "dfNew.job_type.value_counts(ascending=False)"
   ]
  },
  {
   "cell_type": "code",
   "execution_count": 24,
   "metadata": {},
   "outputs": [],
   "source": [
    "dfNew.to_csv('trainNew.csv',index=False) "
   ]
  },
  {
   "cell_type": "code",
   "execution_count": null,
   "metadata": {},
   "outputs": [],
   "source": []
  }
 ],
 "metadata": {
  "kernelspec": {
   "display_name": "Python 3",
   "language": "python",
   "name": "python3"
  },
  "language_info": {
   "codemirror_mode": {
    "name": "ipython",
    "version": 3
   },
   "file_extension": ".py",
   "mimetype": "text/x-python",
   "name": "python",
   "nbconvert_exporter": "python",
   "pygments_lexer": "ipython3",
   "version": "3.7.3"
  }
 },
 "nbformat": 4,
 "nbformat_minor": 4
}
